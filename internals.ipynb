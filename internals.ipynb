{
 "cells": [
  {
   "cell_type": "code",
   "execution_count": 1,
   "metadata": {},
   "outputs": [
    {
     "name": "stdout",
     "output_type": "stream",
     "text": [
      "2012\n",
      "The year is a leap year.\n"
     ]
    }
   ],
   "source": [
    "#1.C\n",
    "year=int(input())\n",
    "if year%400==0:\n",
    "    print('The year is a leap year.')\n",
    "elif year%4==0 and year%100!=0:\n",
    "    print('The year is a leap year.')\n",
    "else:\n",
    "    print('The year is not a leap year')"
   ]
  },
  {
   "cell_type": "code",
   "execution_count": 2,
   "metadata": {},
   "outputs": [
    {
     "name": "stdout",
     "output_type": "stream",
     "text": [
      "2013\n",
      "The year is not a leap year\n"
     ]
    }
   ],
   "source": [
    "\n",
    "year=int(input())\n",
    "if year%400==0:\n",
    "    print('The year is a leap year.')\n",
    "elif year%4==0 and year%100!=0:\n",
    "    print('The year is a leap year.')\n",
    "else:\n",
    "    print('The year is not a leap year')"
   ]
  },
  {
   "cell_type": "code",
   "execution_count": 4,
   "metadata": {},
   "outputs": [
    {
     "name": "stdout",
     "output_type": "stream",
     "text": [
      "83\n",
      "The fine is-1000 INR\n"
     ]
    }
   ],
   "source": [
    "#2.C\n",
    "speed=int(input())\n",
    "if speed<=60:\n",
    "    print('the fine is-0 INR')\n",
    "elif 61<=speed<=80:\n",
    "    print('The fine is-500 INR')\n",
    "elif speed>=81:\n",
    "    print('The fine is-1000 INR')\n",
    "    \n",
    "    "
   ]
  },
  {
   "cell_type": "code",
   "execution_count": 12,
   "metadata": {},
   "outputs": [
    {
     "name": "stdout",
     "output_type": "stream",
     "text": [
      "5\n",
      "1 * 5 = 5\n",
      "2 * 5 = 10\n",
      "3 * 5 = 15\n",
      "4 * 5 = 20\n",
      "5 * 5 = 25\n",
      "6 * 5 = 30\n",
      "7 * 5 = 35\n",
      "8 * 5 = 40\n",
      "9 * 5 = 45\n",
      "10 * 5 = 50\n",
      "11 * 5 = 55\n",
      "12 * 5 = 60\n"
     ]
    }
   ],
   "source": [
    "#3.C\n",
    "a=int(input())\n",
    "\n",
    "for loop in range(1,13):\n",
    "    c=a*loop\n",
    "    print(loop,'*',a,'=',c)"
   ]
  },
  {
   "cell_type": "code",
   "execution_count": 13,
   "metadata": {},
   "outputs": [
    {
     "name": "stdout",
     "output_type": "stream",
     "text": [
      "5\n",
      "15\n"
     ]
    }
   ],
   "source": [
    "#4.C\n",
    "num=int(input())\n",
    "sum=0\n",
    "for i in range(num+1):\n",
    "    sum+=i\n",
    "print(sum)    "
   ]
  },
  {
   "cell_type": "code",
   "execution_count": 24,
   "metadata": {},
   "outputs": [
    {
     "name": "stdout",
     "output_type": "stream",
     "text": [
      "233168\n"
     ]
    }
   ],
   "source": [
    "#5.C\n",
    "li=[]\n",
    "sum=0\n",
    "for i in range (1000):\n",
    "    if i%5==0 or i%3==0:\n",
    "        li.append(i)\n",
    "        sum+=i\n",
    "print(sum)\n",
    "        "
   ]
  },
  {
   "cell_type": "code",
   "execution_count": 3,
   "metadata": {},
   "outputs": [
    {
     "name": "stdout",
     "output_type": "stream",
     "text": [
      "9\n",
      "Fizz\n"
     ]
    }
   ],
   "source": [
    "#6.C\n",
    "a=int(input())\n",
    "\n",
    "if a%3==0 and a%5==0:\n",
    "    print('FizzBuzz')\n",
    "elif a%5==0:\n",
    "    print('Buzz')\n",
    "elif a%3==0 :\n",
    "    print('Fizz')\n",
    "else:\n",
    "    print(a)\n",
    "    "
   ]
  },
  {
   "cell_type": "code",
   "execution_count": 5,
   "metadata": {},
   "outputs": [
    {
     "name": "stdout",
     "output_type": "stream",
     "text": [
      "10\n",
      "385\n",
      "-2640\n"
     ]
    }
   ],
   "source": [
    "#7.C\n",
    "a=int(input())\n",
    "sum=0\n",
    "for loop in range(a+1):\n",
    "    b=loop**2\n",
    "    sum+=b\n",
    "\n",
    "sum1=0\n",
    "for i in range(a+1):\n",
    "    sum1+=i\n",
    "c=sum1**2\n",
    "print(sum-c)\n",
    "    \n",
    "    "
   ]
  }
 ],
 "metadata": {
  "kernelspec": {
   "display_name": "Python 3",
   "language": "python",
   "name": "python3"
  },
  "language_info": {
   "codemirror_mode": {
    "name": "ipython",
    "version": 3
   },
   "file_extension": ".py",
   "mimetype": "text/x-python",
   "name": "python",
   "nbconvert_exporter": "python",
   "pygments_lexer": "ipython3",
   "version": "3.8.10"
  }
 },
 "nbformat": 4,
 "nbformat_minor": 4
}
